{
 "cells": [
  {
   "cell_type": "code",
   "execution_count": 3,
   "metadata": {},
   "outputs": [],
   "source": [
    "import pandas as pd\n",
    "import numpy as np"
   ]
  },
  {
   "cell_type": "code",
   "execution_count": 4,
   "metadata": {},
   "outputs": [],
   "source": [
    "T=2"
   ]
  },
  {
   "cell_type": "code",
   "execution_count": 13,
   "metadata": {},
   "outputs": [],
   "source": [
    "def solution(a, theta, X0, sigma):\n",
    "    '''\n",
    "    input1 : double\n",
    "    input2 : double\n",
    "    input3 : double\n",
    "    input4 : double\n",
    "\n",
    "    Expected return type : List[Double]\n",
    "    '''\n",
    "    # Read only region end\n",
    "    X=X0\n",
    "    i=0\n",
    "    T=0.0\n",
    "    dt = 2.0/1000\n",
    "    Xt=[]\n",
    "    Xts=[]\n",
    "    for i in range(0,10000):\n",
    "        X=[X0]\n",
    "        Xsi=X0\n",
    "        i=0\n",
    "        eps=0\n",
    "        T=0.0\n",
    "        for t in range(0,1000):\n",
    "            i=i+1\n",
    "            T=T+dt\n",
    "            eps = np.random.normal(0,1)\n",
    "            X.append(X[t]+ a*(theta-X[t])*dt + sigma*(X[t]**0.5)*eps*(dt**0.5))\n",
    "            #Xsi= eps*((max(X-100,0)*dt)**0.5)\n",
    "\n",
    "        Xt.append(X[i])\n",
    "        Xsi = eps*(max(X[i-1]-100,0)*dt)**0.5\n",
    "        Xts.append(Xsi)\n",
    "    ret=[T]\n",
    "    sum=0\n",
    "    for i in range(0,len(Xt)):\n",
    "        sum = sum+Xt[i]\n",
    "    sum = sum/len(Xt)\n",
    "    ret.append(sum)\n",
    "    sum = 0\n",
    "    for i in range(0,len(Xt)):\n",
    "        sum = sum+max(Xt[i]-100,0)\n",
    "    sum = sum/len(Xt)\n",
    "    ret.append(sum)\n",
    "    sum = 0\n",
    "    for i in range(0,len(Xts)):\n",
    "        sum = sum+Xts[i]\n",
    "    sum = sum/len(Xts)\n",
    "    ret.append(sum)\n",
    "    return ret\n",
    "    # Write code here\n",
    "    pass\n",
    "    "
   ]
  },
  {
   "cell_type": "code",
   "execution_count": 14,
   "metadata": {},
   "outputs": [
    {
     "data": {
      "text/plain": [
       "[2.0000000000000013,\n",
       " 99.97816246895148,\n",
       " 0.6101103385156598,\n",
       " 0.00014941600137774152]"
      ]
     },
     "execution_count": 14,
     "metadata": {},
     "output_type": "execute_result"
    }
   ],
   "source": [
    "X = solution(0.8,100,100,0.2)\n",
    "len(X)\n",
    "X"
   ]
  },
  {
   "cell_type": "code",
   "execution_count": 14,
   "metadata": {},
   "outputs": [
    {
     "data": {
      "text/plain": [
       "83.84677362496093"
      ]
     },
     "execution_count": 14,
     "metadata": {},
     "output_type": "execute_result"
    }
   ],
   "source": [
    "sum=0\n",
    "for i in range(0,len(X)):\n",
    "    sum = sum+X[i]\n",
    "sum = sum/len(X)\n",
    "sum"
   ]
  },
  {
   "cell_type": "code",
   "execution_count": null,
   "metadata": {},
   "outputs": [],
   "source": []
  }
 ],
 "metadata": {
  "kernelspec": {
   "display_name": "Python 3",
   "language": "python",
   "name": "python3"
  },
  "language_info": {
   "codemirror_mode": {
    "name": "ipython",
    "version": 3
   },
   "file_extension": ".py",
   "mimetype": "text/x-python",
   "name": "python",
   "nbconvert_exporter": "python",
   "pygments_lexer": "ipython3",
   "version": "3.6.4"
  }
 },
 "nbformat": 4,
 "nbformat_minor": 2
}
